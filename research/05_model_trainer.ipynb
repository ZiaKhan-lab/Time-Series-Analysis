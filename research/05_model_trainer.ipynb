{
 "cells": [
  {
   "cell_type": "code",
   "execution_count": 195,
   "metadata": {},
   "outputs": [],
   "source": [
    "import os"
   ]
  },
  {
   "cell_type": "code",
   "execution_count": 196,
   "metadata": {},
   "outputs": [
    {
     "data": {
      "text/plain": [
       "'f:\\\\Time Series Data Analysis (Upwork)\\\\end-to-end-time-series-data-analysis-with-mlflow'"
      ]
     },
     "execution_count": 196,
     "metadata": {},
     "output_type": "execute_result"
    }
   ],
   "source": [
    "%pwd"
   ]
  },
  {
   "cell_type": "code",
   "execution_count": 197,
   "metadata": {},
   "outputs": [],
   "source": [
    "#os.chdir('../')"
   ]
  },
  {
   "cell_type": "code",
   "execution_count": 198,
   "metadata": {},
   "outputs": [
    {
     "data": {
      "text/plain": [
       "'f:\\\\Time Series Data Analysis (Upwork)\\\\end-to-end-time-series-data-analysis-with-mlflow'"
      ]
     },
     "execution_count": 198,
     "metadata": {},
     "output_type": "execute_result"
    }
   ],
   "source": [
    "%pwd"
   ]
  },
  {
   "cell_type": "code",
   "execution_count": 199,
   "metadata": {},
   "outputs": [],
   "source": [
    "from dataclasses import dataclass\n",
    "from pathlib import Path\n",
    "\n",
    "\n",
    "@dataclass(frozen=True)\n",
    "class ModelTrainerConfig:\n",
    "    root_dir: Path\n",
    "    train_data_path: Path\n",
    "    test_data_path: Path\n",
    "    trained_model_path: Path\n",
    "    updated_base_model_path: Path\n",
    "    params_batch_size: int\n",
    "    params_epochs: int\n",
    "    target_column: str"
   ]
  },
  {
   "cell_type": "code",
   "execution_count": 200,
   "metadata": {},
   "outputs": [],
   "source": [
    "from TimeSeriesProject .constants import *\n",
    "from TimeSeriesProject.utils.common import read_yaml, create_directories"
   ]
  },
  {
   "cell_type": "code",
   "execution_count": 201,
   "metadata": {},
   "outputs": [],
   "source": [
    "class ConfigurationManager:\n",
    "    def __init__(\n",
    "        self,\n",
    "        config_filepath = CONFIG_FILE_PATH,\n",
    "        params_filepath = PARAMS_FILE_PATH,\n",
    "        schema_filepath = SCHEMA_FILE_PATH):\n",
    "\n",
    "        self.config = read_yaml(config_filepath)\n",
    "        self.params = read_yaml(params_filepath)\n",
    "        self.schema = read_yaml(schema_filepath)\n",
    "\n",
    "        create_directories([self.config.artifacts_root])\n",
    "\n",
    "\n",
    "    def get_model_trainer_config(self) -> ModelTrainerConfig:\n",
    "        config = self.config.model_trainer\n",
    "        prepare_base_model = self.config.prepare_base_model\n",
    "        params = self.params\n",
    "        schema =  self.schema.TARGET_COLUMN\n",
    "\n",
    "        create_directories([config.root_dir])\n",
    "\n",
    "        model_trainer_config = ModelTrainerConfig(\n",
    "            root_dir=config.root_dir,\n",
    "            train_data_path = config.train_data_path,\n",
    "            test_data_path = config.test_data_path,\n",
    "            trained_model_path=Path(config.trained_model_path),\n",
    "            updated_base_model_path=Path(prepare_base_model.updated_base_model_path),\n",
    "            params_batch_size=params.BATCH_SIZE,\n",
    "            params_epochs=params.EPOCHS,\n",
    "            target_column = schema.name\n",
    "            \n",
    "        )\n",
    "\n",
    "        return model_trainer_config"
   ]
  },
  {
   "cell_type": "code",
   "execution_count": 202,
   "metadata": {},
   "outputs": [],
   "source": [
    "import os\n",
    "import joblib\n",
    "import pandas as pd\n",
    "from TimeSeriesProject import logger\n",
    "import urllib.request as request\n",
    "from zipfile import ZipFile\n",
    "import tensorflow as tf\n",
    "import time"
   ]
  },
  {
   "cell_type": "code",
   "execution_count": 203,
   "metadata": {},
   "outputs": [],
   "source": [
    "class ModelTrainer:\n",
    "    def __init__(self, config: ModelTrainerConfig):\n",
    "        self.config = config\n",
    "\n",
    "    @staticmethod\n",
    "    def save_model(path: Path, model: tf.keras.Model):\n",
    "        model.save(path)\n",
    "\n",
    "    def get_base_model(self):\n",
    "        self.model = tf.keras.models.load_model(\n",
    "            self.config.updated_base_model_path\n",
    "        )\n",
    "\n",
    "    def train(self):\n",
    "        train_data = pd.read_csv(self.config.train_data_path)\n",
    "        test_data = pd.read_csv(self.config.test_data_path)\n",
    "\n",
    "        train_data.drop(['RUL', 'id'], axis=1, inplace=True)\n",
    "        test_data.drop(['RUL', 'id'], axis=1, inplace=True)\n",
    "\n",
    "        train_x = train_data.drop([self.config.target_column], axis=1)\n",
    "        test_x = test_data.drop([self.config.target_column], axis=1)\n",
    "        train_y = train_data[[self.config.target_column]]\n",
    "        test_y = test_data[[self.config.target_column]]\n",
    "\n",
    "        # train_x = train_x.to_numpy()\n",
    "        # test_x = test_x.to_numpy()\n",
    "        # train_y = train_y.to_numpy()\n",
    "        # test_y = test_y.to_numpy()\n",
    "\n",
    "        # train_x = train_x.reshape(-1, 9, 1)\n",
    "        # test_x = test_x.reshape(-1, 9, 1)\n",
    "\n",
    "        train_x_lstm = train_x.values.reshape((train_x.shape[0], train_x.shape[1], 1))\n",
    "        test_x_lstm = test_x.values.reshape((test_x.shape[0], test_x.shape[1], 1))\n",
    "\n",
    "\n",
    "\n",
    "        self.model.fit(\n",
    "            train_x_lstm, train_y,\n",
    "            batch_size=self.config.params_batch_size,\n",
    "            epochs=self.config.params_epochs,\n",
    "            verbose=1  \n",
    "        )\n",
    "\n",
    "        #joblib.dump(self.model, os.path.join(self.config.root_dir, self.model))\n",
    "\n",
    "        self.save_model(\n",
    "            path=self.config.trained_model_path,\n",
    "            model=self.model\n",
    "         )\n",
    "\n"
   ]
  },
  {
   "cell_type": "code",
   "execution_count": 204,
   "metadata": {},
   "outputs": [
    {
     "name": "stdout",
     "output_type": "stream",
     "text": [
      "[2023-09-15 01:37:15,354: INFO: common: yaml file: config\\config.yaml loaded successfully]\n",
      "[2023-09-15 01:37:15,354: INFO: common: yaml file: params.yaml loaded successfully]\n",
      "[2023-09-15 01:37:15,369: INFO: common: yaml file: schema.yaml loaded successfully]\n",
      "[2023-09-15 01:37:15,382: INFO: common: created directory at: artifacts]\n",
      "[2023-09-15 01:37:15,383: INFO: common: created directory at: artifacts/model_trainer]\n",
      "Epoch 1/10\n",
      "484/484 [==============================] - 3s 4ms/step - loss: 0.2055 - accuracy: 0.9204\n",
      "Epoch 2/10\n",
      "484/484 [==============================] - 1s 3ms/step - loss: 0.1301 - accuracy: 0.9463\n",
      "Epoch 3/10\n",
      "484/484 [==============================] - 1s 3ms/step - loss: 0.1274 - accuracy: 0.9455\n",
      "Epoch 4/10\n",
      "484/484 [==============================] - 1s 3ms/step - loss: 0.1238 - accuracy: 0.9477\n",
      "Epoch 5/10\n",
      "484/484 [==============================] - 1s 3ms/step - loss: 0.1219 - accuracy: 0.9479\n",
      "Epoch 6/10\n",
      "484/484 [==============================] - 1s 3ms/step - loss: 0.1215 - accuracy: 0.9482\n",
      "Epoch 7/10\n",
      "484/484 [==============================] - 1s 3ms/step - loss: 0.1211 - accuracy: 0.9480\n",
      "Epoch 8/10\n",
      "484/484 [==============================] - 1s 3ms/step - loss: 0.1207 - accuracy: 0.9489\n",
      "Epoch 9/10\n",
      "484/484 [==============================] - 2s 4ms/step - loss: 0.1203 - accuracy: 0.9485\n",
      "Epoch 10/10\n",
      "484/484 [==============================] - 1s 3ms/step - loss: 0.1196 - accuracy: 0.9480\n"
     ]
    },
    {
     "name": "stderr",
     "output_type": "stream",
     "text": [
      "f:\\Time Series Data Analysis (Upwork)\\end-to-end-time-series-data-analysis-with-mlflow\\.venv\\lib\\site-packages\\keras\\src\\engine\\training.py:3000: UserWarning: You are saving your model as an HDF5 file via `model.save()`. This file format is considered legacy. We recommend using instead the native Keras format, e.g. `model.save('my_model.keras')`.\n",
      "  saving_api.save_model(\n"
     ]
    }
   ],
   "source": [
    "try:\n",
    "    config = ConfigurationManager()\n",
    "    model_trainer_config = config.get_model_trainer_config()\n",
    "    model_trainer_config = ModelTrainer(config=model_trainer_config)\n",
    "    model_trainer_config.get_base_model()\n",
    "    model_trainer_config.train()\n",
    "except Exception as e:\n",
    "    raise e"
   ]
  }
 ],
 "metadata": {
  "kernelspec": {
   "display_name": ".venv",
   "language": "python",
   "name": "python3"
  },
  "language_info": {
   "codemirror_mode": {
    "name": "ipython",
    "version": 3
   },
   "file_extension": ".py",
   "mimetype": "text/x-python",
   "name": "python",
   "nbconvert_exporter": "python",
   "pygments_lexer": "ipython3",
   "version": "3.10.11"
  },
  "orig_nbformat": 4
 },
 "nbformat": 4,
 "nbformat_minor": 2
}
